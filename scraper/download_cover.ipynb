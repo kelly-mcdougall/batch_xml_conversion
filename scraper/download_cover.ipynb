{
 "cells": [
  {
   "cell_type": "code",
   "execution_count": 21,
   "metadata": {},
   "outputs": [],
   "source": [
    "import requests\n",
    "from selenium import webdriver\n",
    "from bs4 import BeautifulSoup\n",
    "from glob import glob\n",
    "from datetime import datetime\n",
    "import json\n",
    "import pandas as pd"
   ]
  },
  {
   "cell_type": "code",
   "execution_count": 22,
   "metadata": {},
   "outputs": [],
   "source": [
    "driver = webdriver.Chrome(\"/Users/kmcdouga/Dropbox (MIT)/Silverchair/Batch_2/venv/bin/chromedriver\")"
   ]
  },
  {
   "cell_type": "code",
   "execution_count": 23,
   "metadata": {},
   "outputs": [],
   "source": [
    "jrn_code = 'isec'\n"
   ]
  },
  {
   "cell_type": "code",
   "execution_count": 24,
   "metadata": {},
   "outputs": [],
   "source": [
    "loi_url = 'https://www.mitpressjournals.org/loi/{}'.format(jrn_code)\n",
    "driver.get(loi_url)\n",
    "content = driver.page_source\n",
    "soup = BeautifulSoup(content)"
   ]
  },
  {
   "cell_type": "code",
   "execution_count": null,
   "metadata": {},
   "outputs": [],
   "source": []
  },
  {
   "cell_type": "code",
   "execution_count": 28,
   "metadata": {},
   "outputs": [],
   "source": [
    "cover_tag = soup.find_all('img', {'alt':'Publication Cover'})\n",
    "cover_path = 'https://www.mitpressjournals.org/{}'.format(cover_tag[0]['src'])\n",
    "cover_name = cover_path.split('/')[-1]\n",
    "\n"
   ]
  },
  {
   "cell_type": "code",
   "execution_count": 29,
   "metadata": {},
   "outputs": [
    {
     "name": "stdout",
     "output_type": "stream",
     "text": [
      "cover_tag: [<img alt=\"Publication Cover\" src=\"/na101/home/literatum/publisher/mit/journals/content/isec/2020/isec.2020.45.issue-1/isec.2020.45.issue-1/20200720/isec.2020.45.issue-1.cover.jpg\"/>]\n",
      "cover_path: https://www.mitpressjournals.org//na101/home/literatum/publisher/mit/journals/content/isec/2020/isec.2020.45.issue-1/isec.2020.45.issue-1/20200720/isec.2020.45.issue-1.cover.jpg\n",
      "cover_name: isec.2020.45.issue-1.cover.jpg\n"
     ]
    }
   ],
   "source": [
    "print('cover_tag: {}'.format(cover_tag))\n",
    "print('cover_path: {}'.format(cover_path))\n",
    "print('cover_name: {}'.format(cover_name))\n"
   ]
  },
  {
   "cell_type": "code",
   "execution_count": 31,
   "metadata": {},
   "outputs": [],
   "source": [
    "response = requests.get(cover_path)\n",
    "\n",
    "file = open(cover_name, \"wb\")\n",
    "file.write(response.content)\n",
    "file.close()"
   ]
  },
  {
   "cell_type": "code",
   "execution_count": 16,
   "metadata": {},
   "outputs": [
    {
     "name": "stdout",
     "output_type": "stream",
     "text": [
      "isec.2020.45.issue-1.cover.jpg\n"
     ]
    }
   ],
   "source": [
    "print(cover_path.split('/')[-1])"
   ]
  },
  {
   "cell_type": "code",
   "execution_count": null,
   "metadata": {},
   "outputs": [],
   "source": []
  },
  {
   "cell_type": "code",
   "execution_count": null,
   "metadata": {},
   "outputs": [],
   "source": []
  },
  {
   "cell_type": "code",
   "execution_count": 20,
   "metadata": {},
   "outputs": [],
   "source": [
    "# journals_slice.apply(getURL, axis=1)\n",
    "driver.quit()"
   ]
  },
  {
   "cell_type": "code",
   "execution_count": null,
   "metadata": {},
   "outputs": [],
   "source": []
  }
 ],
 "metadata": {
  "kernelspec": {
   "display_name": "Python 3",
   "language": "python",
   "name": "python3"
  },
  "language_info": {
   "codemirror_mode": {
    "name": "ipython",
    "version": 3
   },
   "file_extension": ".py",
   "mimetype": "text/x-python",
   "name": "python",
   "nbconvert_exporter": "python",
   "pygments_lexer": "ipython3",
   "version": "3.7.5"
  }
 },
 "nbformat": 4,
 "nbformat_minor": 4
}
